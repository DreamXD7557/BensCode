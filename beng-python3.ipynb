{
  "cells": [
    {
      "cell_type": "markdown",
      "metadata": {},
      "source": [
        "# Python Crash Course for Minecraft Builders and Football Fans\n",
        "This notebook will teach Python concepts using football (Arsenal FC) and Minecraft references. You will learn the basics of Python, followed by practical exercises, games, and challenges!\n"
      ]
    },
    {
      "cell_type": "code",
      "execution_count": 1,
      "metadata": {},
      "outputs": [],
      "source": [
        "# Lesson 1: Hello, Python!\n",
        "# Objective: Learn how to print a message in Python.\n",
        "# Task: Print 'Welcome to the World of Python, [Your Name]!'"
      ]
    },
    {
      "cell_type": "code",
      "execution_count": 2,
      "metadata": {},
      "outputs": [],
      "source": [
        "print('Welcome to the World of Python, Arsenal Fan!')"
      ]
    },
    {
      "cell_type": "markdown",
      "metadata": {},
      "source": [
        "## Lesson 2: Variables and Data Types\n",
        "### Objective: Learn how to store values in variables.\n",
        "### What are variables?\n",
        "A variable is like a box where we store information. Let's explore different types of variables:\n",
        "- **Strings**: Text, e.g., 'Arsenal FC'\n",
        "- **Integers**: Whole numbers, e.g., 9\n",
        "- **Floats**: Decimal numbers, e.g., 3.14\n",
        "- **Booleans**: True or False, e.g., True for a win or False for a loss.\n",
        "### Task: Create variables for your age, favourite football team, and number of Minecraft blocks you've mined."
      ]
    },
    {
      "cell_type": "code",
      "execution_count": 3,
      "metadata": {},
      "outputs": [],
      "source": [
        "# Create variables for age, team, and blocks mined\n",
        "age = 9  # Integer\n",
        "team = 'Arsenal FC'  # String\n",
        "blocks_mined = 100  # Integer\n",
        "\n",
        "# Print the variables\n",
        "print(f'Age: {age}, Team: {team}, Blocks Mined: {blocks_mined}')"
      ]
    },
    {
      "cell_type": "markdown",
      "metadata": {},
      "source": [
        "### Fun Challenge:\n",
        "Create a variable `goals_scored` and set it to a random number between 1 and 10. Then print out a sentence like 'Arsenal scored [goals_scored] goals today!'\n",
        "\n",
        "### Additional Types:\n",
        "- **Lists**: Used to store multiple values in one variable.\n",
        "- **Dictionaries**: Store data in key-value pairs."
      ]
    },
    {
      "cell_type": "code",
      "execution_count": 4,
      "metadata": {},
      "outputs": [],
      "source": [
        "import random\n",
        "goals_scored = random.randint(1, 10)\n",
        "print(f'Arsenal scored {goals_scored} goals today!')"
      ]
    },
    {
      "cell_type": "markdown",
      "metadata": {},
      "source": [
        "## Lesson 3: Simple Math with Python\n",
        "### Objective: Learn basic arithmetic in Python.\n",
        "### Operators in Python:\n",
        "- **+**: Addition\n",
        "- **-**: Subtraction\n",
        "- **\\***: Multiplication\n",
        "- **/**: Division\n",
        "### Task: Calculate how many football matches you've watched this year by multiplying the number of games per week by the number of weeks."
      ]
    },
    {
      "cell_type": "code",
      "execution_count": 5,
      "metadata": {},
      "outputs": [],
      "source": [
        "games_per_week = 3\n",
        "weeks = 20\n",
        "matches_watched = games_per_week * weeks\n",
        "print(f'Matches Watched: {matches_watched}')"
      ]
    },
    {
      "cell_type": "markdown",
      "metadata": {},
      "source": [
        "### Fun Challenge:\n",
        "Calculate how many blocks you would have mined in Minecraft if you mined 10 blocks every day for 30 days."
      ]
    },
    {
      "cell_type": "code",
      "execution_count": 6,
      "metadata": {},
      "outputs": [],
      "source": [
        "blocks_per_day = 10\n",
        "days = 30\n",
        "total_blocks = blocks_per_day * days\n",
        "print(f'Total blocks mined: {total_blocks}')"
      ]
    },
    {
      "cell_type": "markdown",
      "metadata": {},
      "source": [
        "## Lesson 4: Lists - A Football Team and Minecraft Inventory\n",
        "### Objective: Learn how to create and manipulate lists.\n",
        "### What is a list?\n",
        "A list is an ordered collection of items. You can store many items of the same or different types.\n",
        "### Task: Create a list of Arsenal players (e.g., 'Saka', 'Odegaard', 'Ramsdale') and print the list."
      ]
    },
    {
      "cell_type": "code",
      "execution_count": 7,
      "metadata": {},
      "outputs": [],
      "source": [
        "arsenal_players = ['Saka', 'Odegaard', 'Ramsdale']\n",
        "print(arsenal_players)"
      ]
    },
    {
      "cell_type": "markdown",
      "metadata": {},
      "source": [
        "### Fun Challenge:\n",
        "Add some Minecraft items to your list. Print out all items in your 'inventory' and add new ones."
      ]
    },
    {
      "cell_type": "code",
      "execution_count": 8,
      "metadata": {},
      "outputs": [],
      "source": [
        "minecraft_inventory = ['Sword', 'Pickaxe', 'Shield']\n",
        "minecraft_inventory.append('Potion')\n",
        "print(minecraft_inventory)"
      ]
    },
    {
      "cell_type": "markdown",
      "metadata": {},
      "source": [
        "## Lesson 5: Loops and Repetition - Scoring Goals\n",
        "### Objective: Learn about `for` loops and repetition.\n",
        "### What are loops?\n",
        "A loop allows you to repeat a task multiple times.\n",
        "- **`for` loop**: Repeats a block of code for a specified number of times.\n",
        "### Task: Write a loop that prints out 'Goal!' 5 times for your football team."
      ]
    },
    {
      "cell_type": "code",
      "execution_count": 9,
      "metadata": {},
      "outputs": [],
      "source": [
        "for i in range(5):\n",
        "    print('Goal!')"
      ]
    },
    {
      "cell_type": "markdown",
      "metadata": {},
      "source": [
        "### Fun Challenge:\n",
        "In Minecraft, print 'Block Mined!' for every 10 blocks you mine using a loop."
      ]
    },
    {
      "cell_type": "code",
      "execution_count": 10,
      "metadata": {},
      "outputs": [],
      "source": [
        "for i in range(10):\n",
        "    print('Block Mined!')"
      ]
    },
    {
      "cell_type": "markdown",
      "metadata": {},
      "source": [
        "## Lesson 6: If Statements - Match Decisions\n",
        "### Objective: Learn how to use `if` statements to make decisions.\n",
        "### What are `if` statements?\n",
        "`if` statements help us make decisions based on conditions.\n",
        "### Task: If Arsenal wins a game, print 'We are top of the league!'."
      ]
    },
    {
      "cell_type": "code",
      "execution_count": 11,
      "metadata": {},
      "outputs": [],
      "source": [
        "win = True\n",
        "if win:\n",
        "    print('We are top of the league!')\n",
        "else:\n",
        "    print('We'll get them next time!')"
      ]
    },
    {
      "cell_type": "markdown",
      "metadata": {},
      "source": [
        "### Fun Challenge:\n",
        "In Minecraft, check if you've mined enough blocks to craft a new item. If you have, print 'I can craft a new tool!', otherwise print 'I need more blocks!'."
      ]
    },
    {
      "cell_type": "code",
      "execution_count": 12,
      "metadata": {},
      "outputs": [],
      "source": [
        "blocks_mined = 50\n",
        "if blocks_mined >= 100:\n",
        "    print('I can craft a new tool!')\n",
        "else:\n",
        "    print('I need more blocks!')"
      ]
    }
  ],
  "metadata": {
    "kernelspec": {
      "display_name": "Python 3",
      "language": "python",
      "name": "python3"
    },
    "language_info": {
      "codemirror_mode": {
        "name": "ipython",
        "version": 3
      },
      "file_extension": ".py",
      "mimetype": "text/x-python",
      "name": "python",
      "nbconvert_exporter": "python",
      "version": "3.8.8"
    }
  },
  "nbformat": 4,
  "nbformat_minor": 5
}
